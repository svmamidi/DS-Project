{
  "metadata": {
    "kernelspec": {
      "language": "python",
      "display_name": "Python 3",
      "name": "python3"
    },
    "language_info": {
      "name": "python",
      "version": "3.10.12",
      "mimetype": "text/x-python",
      "codemirror_mode": {
        "name": "ipython",
        "version": 3
      },
      "pygments_lexer": "ipython3",
      "nbconvert_exporter": "python",
      "file_extension": ".py"
    },
    "kaggle": {
      "accelerator": "none",
      "dataSources": [
        {
          "sourceId": 70942,
          "databundleVersionId": 10381525,
          "sourceType": "competition"
        }
      ],
      "dockerImageVersionId": 30822,
      "isInternetEnabled": false,
      "language": "python",
      "sourceType": "notebook",
      "isGpuEnabled": false
    },
    "colab": {
      "provenance": [],
      "include_colab_link": true
    },
    "widgets": {
      "application/vnd.jupyter.widget-state+json": {
        "fcfff7833712484299363c70d5cd1c71": {
          "model_module": "@jupyter-widgets/controls",
          "model_name": "VBoxModel",
          "model_module_version": "1.5.0",
          "state": {
            "_dom_classes": [],
            "_model_module": "@jupyter-widgets/controls",
            "_model_module_version": "1.5.0",
            "_model_name": "VBoxModel",
            "_view_count": null,
            "_view_module": "@jupyter-widgets/controls",
            "_view_module_version": "1.5.0",
            "_view_name": "VBoxView",
            "box_style": "",
            "children": [
              "IPY_MODEL_6af6b4a8c081428eac5a06077e64f5ea"
            ],
            "layout": "IPY_MODEL_181d6ba768de4444a1f33291812b7633"
          }
        },
        "7419d3f9d5ed4b7f9b553a97ca4be4ff": {
          "model_module": "@jupyter-widgets/controls",
          "model_name": "HTMLModel",
          "model_module_version": "1.5.0",
          "state": {
            "_dom_classes": [],
            "_model_module": "@jupyter-widgets/controls",
            "_model_module_version": "1.5.0",
            "_model_name": "HTMLModel",
            "_view_count": null,
            "_view_module": "@jupyter-widgets/controls",
            "_view_module_version": "1.5.0",
            "_view_name": "HTMLView",
            "description": "",
            "description_tooltip": null,
            "layout": "IPY_MODEL_7b396e25483643cf884e447ec5e25b3a",
            "placeholder": "​",
            "style": "IPY_MODEL_5d35802e531a4efa819b9285261aaa75",
            "value": "<center> <img\nsrc=https://www.kaggle.com/static/images/site-logo.png\nalt='Kaggle'> <br> Create an API token from <a\nhref=\"https://www.kaggle.com/settings/account\" target=\"_blank\">your Kaggle\nsettings page</a> and paste it below along with your Kaggle username. <br> </center>"
          }
        },
        "32afd70ba883443692f6dd674bb51e41": {
          "model_module": "@jupyter-widgets/controls",
          "model_name": "TextModel",
          "model_module_version": "1.5.0",
          "state": {
            "_dom_classes": [],
            "_model_module": "@jupyter-widgets/controls",
            "_model_module_version": "1.5.0",
            "_model_name": "TextModel",
            "_view_count": null,
            "_view_module": "@jupyter-widgets/controls",
            "_view_module_version": "1.5.0",
            "_view_name": "TextView",
            "continuous_update": true,
            "description": "Username:",
            "description_tooltip": null,
            "disabled": false,
            "layout": "IPY_MODEL_cfb61114d7be4564b687dbc5b947b542",
            "placeholder": "​",
            "style": "IPY_MODEL_7c825d0cdfac4b0d8ae5d1022616e27b",
            "value": "satyavm"
          }
        },
        "7a02406f972949bdbbc5fd1033c98302": {
          "model_module": "@jupyter-widgets/controls",
          "model_name": "PasswordModel",
          "model_module_version": "1.5.0",
          "state": {
            "_dom_classes": [],
            "_model_module": "@jupyter-widgets/controls",
            "_model_module_version": "1.5.0",
            "_model_name": "PasswordModel",
            "_view_count": null,
            "_view_module": "@jupyter-widgets/controls",
            "_view_module_version": "1.5.0",
            "_view_name": "PasswordView",
            "continuous_update": true,
            "description": "Token:",
            "description_tooltip": null,
            "disabled": false,
            "layout": "IPY_MODEL_a6e2352557b243ef976acc56164585b4",
            "placeholder": "​",
            "style": "IPY_MODEL_36b5fcdb8a154573bdfb54904942337e",
            "value": ""
          }
        },
        "bb2bd7620ee3428187a5b63578536f71": {
          "model_module": "@jupyter-widgets/controls",
          "model_name": "ButtonModel",
          "model_module_version": "1.5.0",
          "state": {
            "_dom_classes": [],
            "_model_module": "@jupyter-widgets/controls",
            "_model_module_version": "1.5.0",
            "_model_name": "ButtonModel",
            "_view_count": null,
            "_view_module": "@jupyter-widgets/controls",
            "_view_module_version": "1.5.0",
            "_view_name": "ButtonView",
            "button_style": "",
            "description": "Login",
            "disabled": false,
            "icon": "",
            "layout": "IPY_MODEL_27d0871420984efca47cba2fdac4c817",
            "style": "IPY_MODEL_bdf6d2bbda24405c9e0573ee4f6ae894",
            "tooltip": ""
          }
        },
        "58eef83e3e664570be7f00b690dd5c14": {
          "model_module": "@jupyter-widgets/controls",
          "model_name": "HTMLModel",
          "model_module_version": "1.5.0",
          "state": {
            "_dom_classes": [],
            "_model_module": "@jupyter-widgets/controls",
            "_model_module_version": "1.5.0",
            "_model_name": "HTMLModel",
            "_view_count": null,
            "_view_module": "@jupyter-widgets/controls",
            "_view_module_version": "1.5.0",
            "_view_name": "HTMLView",
            "description": "",
            "description_tooltip": null,
            "layout": "IPY_MODEL_4400ce07e95047d0ae47fe1ca5a29785",
            "placeholder": "​",
            "style": "IPY_MODEL_35ce71b9d7b6468794c8ca8f7c5c393a",
            "value": "\n<b>Thank You</b></center>"
          }
        },
        "181d6ba768de4444a1f33291812b7633": {
          "model_module": "@jupyter-widgets/base",
          "model_name": "LayoutModel",
          "model_module_version": "1.2.0",
          "state": {
            "_model_module": "@jupyter-widgets/base",
            "_model_module_version": "1.2.0",
            "_model_name": "LayoutModel",
            "_view_count": null,
            "_view_module": "@jupyter-widgets/base",
            "_view_module_version": "1.2.0",
            "_view_name": "LayoutView",
            "align_content": null,
            "align_items": "center",
            "align_self": null,
            "border": null,
            "bottom": null,
            "display": "flex",
            "flex": null,
            "flex_flow": "column",
            "grid_area": null,
            "grid_auto_columns": null,
            "grid_auto_flow": null,
            "grid_auto_rows": null,
            "grid_column": null,
            "grid_gap": null,
            "grid_row": null,
            "grid_template_areas": null,
            "grid_template_columns": null,
            "grid_template_rows": null,
            "height": null,
            "justify_content": null,
            "justify_items": null,
            "left": null,
            "margin": null,
            "max_height": null,
            "max_width": null,
            "min_height": null,
            "min_width": null,
            "object_fit": null,
            "object_position": null,
            "order": null,
            "overflow": null,
            "overflow_x": null,
            "overflow_y": null,
            "padding": null,
            "right": null,
            "top": null,
            "visibility": null,
            "width": "50%"
          }
        },
        "7b396e25483643cf884e447ec5e25b3a": {
          "model_module": "@jupyter-widgets/base",
          "model_name": "LayoutModel",
          "model_module_version": "1.2.0",
          "state": {
            "_model_module": "@jupyter-widgets/base",
            "_model_module_version": "1.2.0",
            "_model_name": "LayoutModel",
            "_view_count": null,
            "_view_module": "@jupyter-widgets/base",
            "_view_module_version": "1.2.0",
            "_view_name": "LayoutView",
            "align_content": null,
            "align_items": null,
            "align_self": null,
            "border": null,
            "bottom": null,
            "display": null,
            "flex": null,
            "flex_flow": null,
            "grid_area": null,
            "grid_auto_columns": null,
            "grid_auto_flow": null,
            "grid_auto_rows": null,
            "grid_column": null,
            "grid_gap": null,
            "grid_row": null,
            "grid_template_areas": null,
            "grid_template_columns": null,
            "grid_template_rows": null,
            "height": null,
            "justify_content": null,
            "justify_items": null,
            "left": null,
            "margin": null,
            "max_height": null,
            "max_width": null,
            "min_height": null,
            "min_width": null,
            "object_fit": null,
            "object_position": null,
            "order": null,
            "overflow": null,
            "overflow_x": null,
            "overflow_y": null,
            "padding": null,
            "right": null,
            "top": null,
            "visibility": null,
            "width": null
          }
        },
        "5d35802e531a4efa819b9285261aaa75": {
          "model_module": "@jupyter-widgets/controls",
          "model_name": "DescriptionStyleModel",
          "model_module_version": "1.5.0",
          "state": {
            "_model_module": "@jupyter-widgets/controls",
            "_model_module_version": "1.5.0",
            "_model_name": "DescriptionStyleModel",
            "_view_count": null,
            "_view_module": "@jupyter-widgets/base",
            "_view_module_version": "1.2.0",
            "_view_name": "StyleView",
            "description_width": ""
          }
        },
        "cfb61114d7be4564b687dbc5b947b542": {
          "model_module": "@jupyter-widgets/base",
          "model_name": "LayoutModel",
          "model_module_version": "1.2.0",
          "state": {
            "_model_module": "@jupyter-widgets/base",
            "_model_module_version": "1.2.0",
            "_model_name": "LayoutModel",
            "_view_count": null,
            "_view_module": "@jupyter-widgets/base",
            "_view_module_version": "1.2.0",
            "_view_name": "LayoutView",
            "align_content": null,
            "align_items": null,
            "align_self": null,
            "border": null,
            "bottom": null,
            "display": null,
            "flex": null,
            "flex_flow": null,
            "grid_area": null,
            "grid_auto_columns": null,
            "grid_auto_flow": null,
            "grid_auto_rows": null,
            "grid_column": null,
            "grid_gap": null,
            "grid_row": null,
            "grid_template_areas": null,
            "grid_template_columns": null,
            "grid_template_rows": null,
            "height": null,
            "justify_content": null,
            "justify_items": null,
            "left": null,
            "margin": null,
            "max_height": null,
            "max_width": null,
            "min_height": null,
            "min_width": null,
            "object_fit": null,
            "object_position": null,
            "order": null,
            "overflow": null,
            "overflow_x": null,
            "overflow_y": null,
            "padding": null,
            "right": null,
            "top": null,
            "visibility": null,
            "width": null
          }
        },
        "7c825d0cdfac4b0d8ae5d1022616e27b": {
          "model_module": "@jupyter-widgets/controls",
          "model_name": "DescriptionStyleModel",
          "model_module_version": "1.5.0",
          "state": {
            "_model_module": "@jupyter-widgets/controls",
            "_model_module_version": "1.5.0",
            "_model_name": "DescriptionStyleModel",
            "_view_count": null,
            "_view_module": "@jupyter-widgets/base",
            "_view_module_version": "1.2.0",
            "_view_name": "StyleView",
            "description_width": ""
          }
        },
        "a6e2352557b243ef976acc56164585b4": {
          "model_module": "@jupyter-widgets/base",
          "model_name": "LayoutModel",
          "model_module_version": "1.2.0",
          "state": {
            "_model_module": "@jupyter-widgets/base",
            "_model_module_version": "1.2.0",
            "_model_name": "LayoutModel",
            "_view_count": null,
            "_view_module": "@jupyter-widgets/base",
            "_view_module_version": "1.2.0",
            "_view_name": "LayoutView",
            "align_content": null,
            "align_items": null,
            "align_self": null,
            "border": null,
            "bottom": null,
            "display": null,
            "flex": null,
            "flex_flow": null,
            "grid_area": null,
            "grid_auto_columns": null,
            "grid_auto_flow": null,
            "grid_auto_rows": null,
            "grid_column": null,
            "grid_gap": null,
            "grid_row": null,
            "grid_template_areas": null,
            "grid_template_columns": null,
            "grid_template_rows": null,
            "height": null,
            "justify_content": null,
            "justify_items": null,
            "left": null,
            "margin": null,
            "max_height": null,
            "max_width": null,
            "min_height": null,
            "min_width": null,
            "object_fit": null,
            "object_position": null,
            "order": null,
            "overflow": null,
            "overflow_x": null,
            "overflow_y": null,
            "padding": null,
            "right": null,
            "top": null,
            "visibility": null,
            "width": null
          }
        },
        "36b5fcdb8a154573bdfb54904942337e": {
          "model_module": "@jupyter-widgets/controls",
          "model_name": "DescriptionStyleModel",
          "model_module_version": "1.5.0",
          "state": {
            "_model_module": "@jupyter-widgets/controls",
            "_model_module_version": "1.5.0",
            "_model_name": "DescriptionStyleModel",
            "_view_count": null,
            "_view_module": "@jupyter-widgets/base",
            "_view_module_version": "1.2.0",
            "_view_name": "StyleView",
            "description_width": ""
          }
        },
        "27d0871420984efca47cba2fdac4c817": {
          "model_module": "@jupyter-widgets/base",
          "model_name": "LayoutModel",
          "model_module_version": "1.2.0",
          "state": {
            "_model_module": "@jupyter-widgets/base",
            "_model_module_version": "1.2.0",
            "_model_name": "LayoutModel",
            "_view_count": null,
            "_view_module": "@jupyter-widgets/base",
            "_view_module_version": "1.2.0",
            "_view_name": "LayoutView",
            "align_content": null,
            "align_items": null,
            "align_self": null,
            "border": null,
            "bottom": null,
            "display": null,
            "flex": null,
            "flex_flow": null,
            "grid_area": null,
            "grid_auto_columns": null,
            "grid_auto_flow": null,
            "grid_auto_rows": null,
            "grid_column": null,
            "grid_gap": null,
            "grid_row": null,
            "grid_template_areas": null,
            "grid_template_columns": null,
            "grid_template_rows": null,
            "height": null,
            "justify_content": null,
            "justify_items": null,
            "left": null,
            "margin": null,
            "max_height": null,
            "max_width": null,
            "min_height": null,
            "min_width": null,
            "object_fit": null,
            "object_position": null,
            "order": null,
            "overflow": null,
            "overflow_x": null,
            "overflow_y": null,
            "padding": null,
            "right": null,
            "top": null,
            "visibility": null,
            "width": null
          }
        },
        "bdf6d2bbda24405c9e0573ee4f6ae894": {
          "model_module": "@jupyter-widgets/controls",
          "model_name": "ButtonStyleModel",
          "model_module_version": "1.5.0",
          "state": {
            "_model_module": "@jupyter-widgets/controls",
            "_model_module_version": "1.5.0",
            "_model_name": "ButtonStyleModel",
            "_view_count": null,
            "_view_module": "@jupyter-widgets/base",
            "_view_module_version": "1.2.0",
            "_view_name": "StyleView",
            "button_color": null,
            "font_weight": ""
          }
        },
        "4400ce07e95047d0ae47fe1ca5a29785": {
          "model_module": "@jupyter-widgets/base",
          "model_name": "LayoutModel",
          "model_module_version": "1.2.0",
          "state": {
            "_model_module": "@jupyter-widgets/base",
            "_model_module_version": "1.2.0",
            "_model_name": "LayoutModel",
            "_view_count": null,
            "_view_module": "@jupyter-widgets/base",
            "_view_module_version": "1.2.0",
            "_view_name": "LayoutView",
            "align_content": null,
            "align_items": null,
            "align_self": null,
            "border": null,
            "bottom": null,
            "display": null,
            "flex": null,
            "flex_flow": null,
            "grid_area": null,
            "grid_auto_columns": null,
            "grid_auto_flow": null,
            "grid_auto_rows": null,
            "grid_column": null,
            "grid_gap": null,
            "grid_row": null,
            "grid_template_areas": null,
            "grid_template_columns": null,
            "grid_template_rows": null,
            "height": null,
            "justify_content": null,
            "justify_items": null,
            "left": null,
            "margin": null,
            "max_height": null,
            "max_width": null,
            "min_height": null,
            "min_width": null,
            "object_fit": null,
            "object_position": null,
            "order": null,
            "overflow": null,
            "overflow_x": null,
            "overflow_y": null,
            "padding": null,
            "right": null,
            "top": null,
            "visibility": null,
            "width": null
          }
        },
        "35ce71b9d7b6468794c8ca8f7c5c393a": {
          "model_module": "@jupyter-widgets/controls",
          "model_name": "DescriptionStyleModel",
          "model_module_version": "1.5.0",
          "state": {
            "_model_module": "@jupyter-widgets/controls",
            "_model_module_version": "1.5.0",
            "_model_name": "DescriptionStyleModel",
            "_view_count": null,
            "_view_module": "@jupyter-widgets/base",
            "_view_module_version": "1.2.0",
            "_view_name": "StyleView",
            "description_width": ""
          }
        },
        "bf2856d895194322b90acbf89c629528": {
          "model_module": "@jupyter-widgets/controls",
          "model_name": "LabelModel",
          "model_module_version": "1.5.0",
          "state": {
            "_dom_classes": [],
            "_model_module": "@jupyter-widgets/controls",
            "_model_module_version": "1.5.0",
            "_model_name": "LabelModel",
            "_view_count": null,
            "_view_module": "@jupyter-widgets/controls",
            "_view_module_version": "1.5.0",
            "_view_name": "LabelView",
            "description": "",
            "description_tooltip": null,
            "layout": "IPY_MODEL_fecfc4142d224c17a27146d5bc9f3848",
            "placeholder": "​",
            "style": "IPY_MODEL_2e14a44e7ce84dc3aa2996a8ace3c7ec",
            "value": "Connecting..."
          }
        },
        "fecfc4142d224c17a27146d5bc9f3848": {
          "model_module": "@jupyter-widgets/base",
          "model_name": "LayoutModel",
          "model_module_version": "1.2.0",
          "state": {
            "_model_module": "@jupyter-widgets/base",
            "_model_module_version": "1.2.0",
            "_model_name": "LayoutModel",
            "_view_count": null,
            "_view_module": "@jupyter-widgets/base",
            "_view_module_version": "1.2.0",
            "_view_name": "LayoutView",
            "align_content": null,
            "align_items": null,
            "align_self": null,
            "border": null,
            "bottom": null,
            "display": null,
            "flex": null,
            "flex_flow": null,
            "grid_area": null,
            "grid_auto_columns": null,
            "grid_auto_flow": null,
            "grid_auto_rows": null,
            "grid_column": null,
            "grid_gap": null,
            "grid_row": null,
            "grid_template_areas": null,
            "grid_template_columns": null,
            "grid_template_rows": null,
            "height": null,
            "justify_content": null,
            "justify_items": null,
            "left": null,
            "margin": null,
            "max_height": null,
            "max_width": null,
            "min_height": null,
            "min_width": null,
            "object_fit": null,
            "object_position": null,
            "order": null,
            "overflow": null,
            "overflow_x": null,
            "overflow_y": null,
            "padding": null,
            "right": null,
            "top": null,
            "visibility": null,
            "width": null
          }
        },
        "2e14a44e7ce84dc3aa2996a8ace3c7ec": {
          "model_module": "@jupyter-widgets/controls",
          "model_name": "DescriptionStyleModel",
          "model_module_version": "1.5.0",
          "state": {
            "_model_module": "@jupyter-widgets/controls",
            "_model_module_version": "1.5.0",
            "_model_name": "DescriptionStyleModel",
            "_view_count": null,
            "_view_module": "@jupyter-widgets/base",
            "_view_module_version": "1.2.0",
            "_view_name": "StyleView",
            "description_width": ""
          }
        },
        "6af6b4a8c081428eac5a06077e64f5ea": {
          "model_module": "@jupyter-widgets/controls",
          "model_name": "LabelModel",
          "model_module_version": "1.5.0",
          "state": {
            "_dom_classes": [],
            "_model_module": "@jupyter-widgets/controls",
            "_model_module_version": "1.5.0",
            "_model_name": "LabelModel",
            "_view_count": null,
            "_view_module": "@jupyter-widgets/controls",
            "_view_module_version": "1.5.0",
            "_view_name": "LabelView",
            "description": "",
            "description_tooltip": null,
            "layout": "IPY_MODEL_625c176e31e94ea4934ed87a0cbf8a27",
            "placeholder": "​",
            "style": "IPY_MODEL_c1af86f90c174ce384d8a0d364608732",
            "value": "Kaggle credentials successfully validated."
          }
        },
        "625c176e31e94ea4934ed87a0cbf8a27": {
          "model_module": "@jupyter-widgets/base",
          "model_name": "LayoutModel",
          "model_module_version": "1.2.0",
          "state": {
            "_model_module": "@jupyter-widgets/base",
            "_model_module_version": "1.2.0",
            "_model_name": "LayoutModel",
            "_view_count": null,
            "_view_module": "@jupyter-widgets/base",
            "_view_module_version": "1.2.0",
            "_view_name": "LayoutView",
            "align_content": null,
            "align_items": null,
            "align_self": null,
            "border": null,
            "bottom": null,
            "display": null,
            "flex": null,
            "flex_flow": null,
            "grid_area": null,
            "grid_auto_columns": null,
            "grid_auto_flow": null,
            "grid_auto_rows": null,
            "grid_column": null,
            "grid_gap": null,
            "grid_row": null,
            "grid_template_areas": null,
            "grid_template_columns": null,
            "grid_template_rows": null,
            "height": null,
            "justify_content": null,
            "justify_items": null,
            "left": null,
            "margin": null,
            "max_height": null,
            "max_width": null,
            "min_height": null,
            "min_width": null,
            "object_fit": null,
            "object_position": null,
            "order": null,
            "overflow": null,
            "overflow_x": null,
            "overflow_y": null,
            "padding": null,
            "right": null,
            "top": null,
            "visibility": null,
            "width": null
          }
        },
        "c1af86f90c174ce384d8a0d364608732": {
          "model_module": "@jupyter-widgets/controls",
          "model_name": "DescriptionStyleModel",
          "model_module_version": "1.5.0",
          "state": {
            "_model_module": "@jupyter-widgets/controls",
            "_model_module_version": "1.5.0",
            "_model_name": "DescriptionStyleModel",
            "_view_count": null,
            "_view_module": "@jupyter-widgets/base",
            "_view_module_version": "1.2.0",
            "_view_name": "StyleView",
            "description_width": ""
          }
        }
      }
    }
  },
  "nbformat_minor": 0,
  "nbformat": 4,
  "cells": [
    {
      "cell_type": "markdown",
      "metadata": {
        "id": "view-in-github",
        "colab_type": "text"
      },
      "source": [
        "<a href=\"https://colab.research.google.com/github/svmamidi/DS-Project/blob/main/HCT_survival_prediction.ipynb\" target=\"_parent\"><img src=\"https://colab.research.google.com/assets/colab-badge.svg\" alt=\"Open In Colab\"/></a>"
      ]
    },
    {
      "source": [
        "# IMPORTANT: SOME KAGGLE DATA SOURCES ARE PRIVATE\n",
        "# RUN THIS CELL IN ORDER TO IMPORT YOUR KAGGLE DATA SOURCES.\n",
        "import kagglehub\n",
        "kagglehub.login()\n"
      ],
      "metadata": {
        "id": "gJAI7tdCwACo",
        "outputId": "dabe045b-3963-4d3e-adc9-9487e57ddf37",
        "colab": {
          "base_uri": "https://localhost:8080/",
          "height": 101,
          "referenced_widgets": [
            "fcfff7833712484299363c70d5cd1c71",
            "7419d3f9d5ed4b7f9b553a97ca4be4ff",
            "32afd70ba883443692f6dd674bb51e41",
            "7a02406f972949bdbbc5fd1033c98302",
            "bb2bd7620ee3428187a5b63578536f71",
            "58eef83e3e664570be7f00b690dd5c14",
            "181d6ba768de4444a1f33291812b7633",
            "7b396e25483643cf884e447ec5e25b3a",
            "5d35802e531a4efa819b9285261aaa75",
            "cfb61114d7be4564b687dbc5b947b542",
            "7c825d0cdfac4b0d8ae5d1022616e27b",
            "a6e2352557b243ef976acc56164585b4",
            "36b5fcdb8a154573bdfb54904942337e",
            "27d0871420984efca47cba2fdac4c817",
            "bdf6d2bbda24405c9e0573ee4f6ae894",
            "4400ce07e95047d0ae47fe1ca5a29785",
            "35ce71b9d7b6468794c8ca8f7c5c393a",
            "bf2856d895194322b90acbf89c629528",
            "fecfc4142d224c17a27146d5bc9f3848",
            "2e14a44e7ce84dc3aa2996a8ace3c7ec",
            "6af6b4a8c081428eac5a06077e64f5ea",
            "625c176e31e94ea4934ed87a0cbf8a27",
            "c1af86f90c174ce384d8a0d364608732"
          ]
        }
      },
      "cell_type": "code",
      "outputs": [
        {
          "output_type": "display_data",
          "data": {
            "text/plain": [
              "VBox(children=(HTML(value='<center> <img\\nsrc=https://www.kaggle.com/static/images/site-logo.png\\nalt=\\'Kaggle…"
            ],
            "application/vnd.jupyter.widget-view+json": {
              "version_major": 2,
              "version_minor": 0,
              "model_id": "fcfff7833712484299363c70d5cd1c71"
            }
          },
          "metadata": {}
        },
        {
          "output_type": "stream",
          "name": "stdout",
          "text": [
            "Kaggle credentials set.\n",
            "Warning: Looks like you're using an outdated `kagglehub` version (installed: 0.3.7), please consider upgrading to the latest version (0.3.8).\n",
            "Kaggle credentials successfully validated.\n"
          ]
        }
      ],
      "execution_count": null
    },
    {
      "source": [
        "# IMPORTANT: RUN THIS CELL IN ORDER TO IMPORT YOUR KAGGLE DATA SOURCES,\n",
        "# THEN FEEL FREE TO DELETE THIS CELL.\n",
        "# NOTE: THIS NOTEBOOK ENVIRONMENT DIFFERS FROM KAGGLE'S PYTHON\n",
        "# ENVIRONMENT SO THERE MAY BE MISSING LIBRARIES USED BY YOUR\n",
        "# NOTEBOOK.\n",
        "\n",
        "equity_post_hct_survival_predictions_path = kagglehub.competition_download('equity-post-HCT-survival-predictions')\n",
        "\n",
        "print('Data source import complete.')\n"
      ],
      "metadata": {
        "id": "bpR8CrDdwACq",
        "outputId": "cdb388ff-720b-47d2-b654-3705ee343bba",
        "colab": {
          "base_uri": "https://localhost:8080/"
        }
      },
      "cell_type": "code",
      "outputs": [
        {
          "output_type": "stream",
          "name": "stdout",
          "text": [
            "Downloading from https://www.kaggle.com/api/v1/competitions/data/download-all/equity-post-HCT-survival-predictions...\n"
          ]
        },
        {
          "output_type": "stream",
          "name": "stderr",
          "text": [
            "100%|██████████| 1.27M/1.27M [00:00<00:00, 2.38MB/s]"
          ]
        },
        {
          "output_type": "stream",
          "name": "stdout",
          "text": [
            "Extracting files...\n",
            "Data source import complete.\n"
          ]
        },
        {
          "output_type": "stream",
          "name": "stderr",
          "text": [
            "\n"
          ]
        }
      ],
      "execution_count": null
    },
    {
      "cell_type": "code",
      "source": [
        "# This Python 3 environment comes with many helpful analytics libraries installed\n",
        "# It is defined by the kaggle/python Docker image: https://github.com/kaggle/docker-python\n",
        "# For example, here's several helpful packages to load\n",
        "\n",
        "import numpy as np # linear algebra\n",
        "import pandas as pd # data processing, CSV file I/O (e.g. pd.read_csv)\n",
        "\n",
        "# Input data files are available in the read-only \"../input/\" directory\n",
        "# For example, running this (by clicking run or pressing Shift+Enter) will list all files under the input directory\n",
        "\n",
        "import os\n",
        "for dirname, _, filenames in os.walk('/kaggle/input'):\n",
        "    for filename in filenames:\n",
        "        print(os.path.join(dirname, filename))\n",
        "\n",
        "# You can write up to 20GB to the current directory (/kaggle/working/) that gets preserved as output when you create a version using \"Save & Run All\"\n",
        "# You can also write temporary files to /kaggle/temp/, but they won't be saved outside of the current session"
      ],
      "metadata": {
        "_uuid": "8f2839f25d086af736a60e9eeb907d3b93b6e0e5",
        "_cell_guid": "b1076dfc-b9ad-4769-8c92-a6c4dae69d19",
        "trusted": true,
        "execution": {
          "iopub.status.busy": "2025-02-20T05:02:15.565347Z",
          "iopub.execute_input": "2025-02-20T05:02:15.565639Z",
          "iopub.status.idle": "2025-02-20T05:02:15.958815Z",
          "shell.execute_reply.started": "2025-02-20T05:02:15.565612Z",
          "shell.execute_reply": "2025-02-20T05:02:15.957437Z"
        },
        "id": "Qk00ednTwACr"
      },
      "outputs": [],
      "execution_count": null
    },
    {
      "cell_type": "code",
      "source": [
        "!pip install lifelines\n"
      ],
      "metadata": {
        "trusted": true,
        "execution": {
          "iopub.status.busy": "2025-02-20T05:02:15.960102Z",
          "iopub.execute_input": "2025-02-20T05:02:15.960618Z",
          "execution_failed": "2025-02-20T05:05:32.777Z"
        },
        "id": "7PDFFrLEwACs",
        "outputId": "20ae5f07-3acf-4e7e-834b-6f8f4c98c6c6",
        "colab": {
          "base_uri": "https://localhost:8080/"
        }
      },
      "outputs": [
        {
          "output_type": "stream",
          "name": "stdout",
          "text": [
            "Requirement already satisfied: lifelines in /usr/local/lib/python3.11/dist-packages (0.30.0)\n",
            "Requirement already satisfied: numpy>=1.14.0 in /usr/local/lib/python3.11/dist-packages (from lifelines) (1.26.4)\n",
            "Requirement already satisfied: scipy>=1.7.0 in /usr/local/lib/python3.11/dist-packages (from lifelines) (1.13.1)\n",
            "Requirement already satisfied: pandas>=2.1 in /usr/local/lib/python3.11/dist-packages (from lifelines) (2.2.2)\n",
            "Requirement already satisfied: matplotlib>=3.0 in /usr/local/lib/python3.11/dist-packages (from lifelines) (3.10.0)\n",
            "Requirement already satisfied: autograd>=1.5 in /usr/local/lib/python3.11/dist-packages (from lifelines) (1.7.0)\n",
            "Requirement already satisfied: autograd-gamma>=0.3 in /usr/local/lib/python3.11/dist-packages (from lifelines) (0.5.0)\n",
            "Requirement already satisfied: formulaic>=0.2.2 in /usr/local/lib/python3.11/dist-packages (from lifelines) (1.1.1)\n",
            "Requirement already satisfied: interface-meta>=1.2.0 in /usr/local/lib/python3.11/dist-packages (from formulaic>=0.2.2->lifelines) (1.3.0)\n",
            "Requirement already satisfied: typing-extensions>=4.2.0 in /usr/local/lib/python3.11/dist-packages (from formulaic>=0.2.2->lifelines) (4.12.2)\n",
            "Requirement already satisfied: wrapt>=1.0 in /usr/local/lib/python3.11/dist-packages (from formulaic>=0.2.2->lifelines) (1.17.2)\n",
            "Requirement already satisfied: contourpy>=1.0.1 in /usr/local/lib/python3.11/dist-packages (from matplotlib>=3.0->lifelines) (1.3.1)\n",
            "Requirement already satisfied: cycler>=0.10 in /usr/local/lib/python3.11/dist-packages (from matplotlib>=3.0->lifelines) (0.12.1)\n",
            "Requirement already satisfied: fonttools>=4.22.0 in /usr/local/lib/python3.11/dist-packages (from matplotlib>=3.0->lifelines) (4.56.0)\n",
            "Requirement already satisfied: kiwisolver>=1.3.1 in /usr/local/lib/python3.11/dist-packages (from matplotlib>=3.0->lifelines) (1.4.8)\n",
            "Requirement already satisfied: packaging>=20.0 in /usr/local/lib/python3.11/dist-packages (from matplotlib>=3.0->lifelines) (24.2)\n",
            "Requirement already satisfied: pillow>=8 in /usr/local/lib/python3.11/dist-packages (from matplotlib>=3.0->lifelines) (11.1.0)\n",
            "Requirement already satisfied: pyparsing>=2.3.1 in /usr/local/lib/python3.11/dist-packages (from matplotlib>=3.0->lifelines) (3.2.1)\n",
            "Requirement already satisfied: python-dateutil>=2.7 in /usr/local/lib/python3.11/dist-packages (from matplotlib>=3.0->lifelines) (2.8.2)\n",
            "Requirement already satisfied: pytz>=2020.1 in /usr/local/lib/python3.11/dist-packages (from pandas>=2.1->lifelines) (2025.1)\n",
            "Requirement already satisfied: tzdata>=2022.7 in /usr/local/lib/python3.11/dist-packages (from pandas>=2.1->lifelines) (2025.1)\n",
            "Requirement already satisfied: six>=1.5 in /usr/local/lib/python3.11/dist-packages (from python-dateutil>=2.7->matplotlib>=3.0->lifelines) (1.17.0)\n"
          ]
        }
      ],
      "execution_count": null
    },
    {
      "cell_type": "code",
      "source": [
        "\n",
        "\n",
        "import pandas as pd\n",
        "from lifelines import KaplanMeierFitter\n"
      ],
      "metadata": {
        "trusted": true,
        "execution": {
          "execution_failed": "2025-02-20T05:05:32.778Z"
        },
        "id": "K9euz6zqwACs"
      },
      "outputs": [],
      "execution_count": null
    },
    {
      "cell_type": "code",
      "source": [
        "train = pd.read_csv('/kaggle/input/equity-post-HCT-survival-predictions/train.csv')\n",
        "test = pd.read_csv('/kaggle/input/equity-post-HCT-survival-predictions/test.csv')"
      ],
      "metadata": {
        "trusted": true,
        "execution": {
          "execution_failed": "2025-02-20T05:05:32.778Z"
        },
        "id": "U79NO15fwACs",
        "outputId": "84bfd59d-fcc2-4f4e-cdc5-c66c3bdf4868",
        "colab": {
          "base_uri": "https://localhost:8080/",
          "height": 304
        }
      },
      "outputs": [
        {
          "output_type": "error",
          "ename": "FileNotFoundError",
          "evalue": "[Errno 2] No such file or directory: '/kaggle/input/equity-post-HCT-survival-predictions/train.csv'",
          "traceback": [
            "\u001b[0;31m---------------------------------------------------------------------------\u001b[0m",
            "\u001b[0;31mFileNotFoundError\u001b[0m                         Traceback (most recent call last)",
            "\u001b[0;32m<ipython-input-12-eb8d80c724da>\u001b[0m in \u001b[0;36m<cell line: 0>\u001b[0;34m()\u001b[0m\n\u001b[0;32m----> 1\u001b[0;31m \u001b[0mtrain\u001b[0m \u001b[0;34m=\u001b[0m \u001b[0mpd\u001b[0m\u001b[0;34m.\u001b[0m\u001b[0mread_csv\u001b[0m\u001b[0;34m(\u001b[0m\u001b[0;34m'/kaggle/input/equity-post-HCT-survival-predictions/train.csv'\u001b[0m\u001b[0;34m)\u001b[0m\u001b[0;34m\u001b[0m\u001b[0;34m\u001b[0m\u001b[0m\n\u001b[0m\u001b[1;32m      2\u001b[0m \u001b[0mtest\u001b[0m \u001b[0;34m=\u001b[0m \u001b[0mpd\u001b[0m\u001b[0;34m.\u001b[0m\u001b[0mread_csv\u001b[0m\u001b[0;34m(\u001b[0m\u001b[0;34m'/kaggle/input/equity-post-HCT-survival-predictions/test.csv'\u001b[0m\u001b[0;34m)\u001b[0m\u001b[0;34m\u001b[0m\u001b[0;34m\u001b[0m\u001b[0m\n",
            "\u001b[0;32m/usr/local/lib/python3.11/dist-packages/pandas/io/parsers/readers.py\u001b[0m in \u001b[0;36mread_csv\u001b[0;34m(filepath_or_buffer, sep, delimiter, header, names, index_col, usecols, dtype, engine, converters, true_values, false_values, skipinitialspace, skiprows, skipfooter, nrows, na_values, keep_default_na, na_filter, verbose, skip_blank_lines, parse_dates, infer_datetime_format, keep_date_col, date_parser, date_format, dayfirst, cache_dates, iterator, chunksize, compression, thousands, decimal, lineterminator, quotechar, quoting, doublequote, escapechar, comment, encoding, encoding_errors, dialect, on_bad_lines, delim_whitespace, low_memory, memory_map, float_precision, storage_options, dtype_backend)\u001b[0m\n\u001b[1;32m   1024\u001b[0m     \u001b[0mkwds\u001b[0m\u001b[0;34m.\u001b[0m\u001b[0mupdate\u001b[0m\u001b[0;34m(\u001b[0m\u001b[0mkwds_defaults\u001b[0m\u001b[0;34m)\u001b[0m\u001b[0;34m\u001b[0m\u001b[0;34m\u001b[0m\u001b[0m\n\u001b[1;32m   1025\u001b[0m \u001b[0;34m\u001b[0m\u001b[0m\n\u001b[0;32m-> 1026\u001b[0;31m     \u001b[0;32mreturn\u001b[0m \u001b[0m_read\u001b[0m\u001b[0;34m(\u001b[0m\u001b[0mfilepath_or_buffer\u001b[0m\u001b[0;34m,\u001b[0m \u001b[0mkwds\u001b[0m\u001b[0;34m)\u001b[0m\u001b[0;34m\u001b[0m\u001b[0;34m\u001b[0m\u001b[0m\n\u001b[0m\u001b[1;32m   1027\u001b[0m \u001b[0;34m\u001b[0m\u001b[0m\n\u001b[1;32m   1028\u001b[0m \u001b[0;34m\u001b[0m\u001b[0m\n",
            "\u001b[0;32m/usr/local/lib/python3.11/dist-packages/pandas/io/parsers/readers.py\u001b[0m in \u001b[0;36m_read\u001b[0;34m(filepath_or_buffer, kwds)\u001b[0m\n\u001b[1;32m    618\u001b[0m \u001b[0;34m\u001b[0m\u001b[0m\n\u001b[1;32m    619\u001b[0m     \u001b[0;31m# Create the parser.\u001b[0m\u001b[0;34m\u001b[0m\u001b[0;34m\u001b[0m\u001b[0m\n\u001b[0;32m--> 620\u001b[0;31m     \u001b[0mparser\u001b[0m \u001b[0;34m=\u001b[0m \u001b[0mTextFileReader\u001b[0m\u001b[0;34m(\u001b[0m\u001b[0mfilepath_or_buffer\u001b[0m\u001b[0;34m,\u001b[0m \u001b[0;34m**\u001b[0m\u001b[0mkwds\u001b[0m\u001b[0;34m)\u001b[0m\u001b[0;34m\u001b[0m\u001b[0;34m\u001b[0m\u001b[0m\n\u001b[0m\u001b[1;32m    621\u001b[0m \u001b[0;34m\u001b[0m\u001b[0m\n\u001b[1;32m    622\u001b[0m     \u001b[0;32mif\u001b[0m \u001b[0mchunksize\u001b[0m \u001b[0;32mor\u001b[0m \u001b[0miterator\u001b[0m\u001b[0;34m:\u001b[0m\u001b[0;34m\u001b[0m\u001b[0;34m\u001b[0m\u001b[0m\n",
            "\u001b[0;32m/usr/local/lib/python3.11/dist-packages/pandas/io/parsers/readers.py\u001b[0m in \u001b[0;36m__init__\u001b[0;34m(self, f, engine, **kwds)\u001b[0m\n\u001b[1;32m   1618\u001b[0m \u001b[0;34m\u001b[0m\u001b[0m\n\u001b[1;32m   1619\u001b[0m         \u001b[0mself\u001b[0m\u001b[0;34m.\u001b[0m\u001b[0mhandles\u001b[0m\u001b[0;34m:\u001b[0m \u001b[0mIOHandles\u001b[0m \u001b[0;34m|\u001b[0m \u001b[0;32mNone\u001b[0m \u001b[0;34m=\u001b[0m \u001b[0;32mNone\u001b[0m\u001b[0;34m\u001b[0m\u001b[0;34m\u001b[0m\u001b[0m\n\u001b[0;32m-> 1620\u001b[0;31m         \u001b[0mself\u001b[0m\u001b[0;34m.\u001b[0m\u001b[0m_engine\u001b[0m \u001b[0;34m=\u001b[0m \u001b[0mself\u001b[0m\u001b[0;34m.\u001b[0m\u001b[0m_make_engine\u001b[0m\u001b[0;34m(\u001b[0m\u001b[0mf\u001b[0m\u001b[0;34m,\u001b[0m \u001b[0mself\u001b[0m\u001b[0;34m.\u001b[0m\u001b[0mengine\u001b[0m\u001b[0;34m)\u001b[0m\u001b[0;34m\u001b[0m\u001b[0;34m\u001b[0m\u001b[0m\n\u001b[0m\u001b[1;32m   1621\u001b[0m \u001b[0;34m\u001b[0m\u001b[0m\n\u001b[1;32m   1622\u001b[0m     \u001b[0;32mdef\u001b[0m \u001b[0mclose\u001b[0m\u001b[0;34m(\u001b[0m\u001b[0mself\u001b[0m\u001b[0;34m)\u001b[0m \u001b[0;34m->\u001b[0m \u001b[0;32mNone\u001b[0m\u001b[0;34m:\u001b[0m\u001b[0;34m\u001b[0m\u001b[0;34m\u001b[0m\u001b[0m\n",
            "\u001b[0;32m/usr/local/lib/python3.11/dist-packages/pandas/io/parsers/readers.py\u001b[0m in \u001b[0;36m_make_engine\u001b[0;34m(self, f, engine)\u001b[0m\n\u001b[1;32m   1878\u001b[0m                 \u001b[0;32mif\u001b[0m \u001b[0;34m\"b\"\u001b[0m \u001b[0;32mnot\u001b[0m \u001b[0;32min\u001b[0m \u001b[0mmode\u001b[0m\u001b[0;34m:\u001b[0m\u001b[0;34m\u001b[0m\u001b[0;34m\u001b[0m\u001b[0m\n\u001b[1;32m   1879\u001b[0m                     \u001b[0mmode\u001b[0m \u001b[0;34m+=\u001b[0m \u001b[0;34m\"b\"\u001b[0m\u001b[0;34m\u001b[0m\u001b[0;34m\u001b[0m\u001b[0m\n\u001b[0;32m-> 1880\u001b[0;31m             self.handles = get_handle(\n\u001b[0m\u001b[1;32m   1881\u001b[0m                 \u001b[0mf\u001b[0m\u001b[0;34m,\u001b[0m\u001b[0;34m\u001b[0m\u001b[0;34m\u001b[0m\u001b[0m\n\u001b[1;32m   1882\u001b[0m                 \u001b[0mmode\u001b[0m\u001b[0;34m,\u001b[0m\u001b[0;34m\u001b[0m\u001b[0;34m\u001b[0m\u001b[0m\n",
            "\u001b[0;32m/usr/local/lib/python3.11/dist-packages/pandas/io/common.py\u001b[0m in \u001b[0;36mget_handle\u001b[0;34m(path_or_buf, mode, encoding, compression, memory_map, is_text, errors, storage_options)\u001b[0m\n\u001b[1;32m    871\u001b[0m         \u001b[0;32mif\u001b[0m \u001b[0mioargs\u001b[0m\u001b[0;34m.\u001b[0m\u001b[0mencoding\u001b[0m \u001b[0;32mand\u001b[0m \u001b[0;34m\"b\"\u001b[0m \u001b[0;32mnot\u001b[0m \u001b[0;32min\u001b[0m \u001b[0mioargs\u001b[0m\u001b[0;34m.\u001b[0m\u001b[0mmode\u001b[0m\u001b[0;34m:\u001b[0m\u001b[0;34m\u001b[0m\u001b[0;34m\u001b[0m\u001b[0m\n\u001b[1;32m    872\u001b[0m             \u001b[0;31m# Encoding\u001b[0m\u001b[0;34m\u001b[0m\u001b[0;34m\u001b[0m\u001b[0m\n\u001b[0;32m--> 873\u001b[0;31m             handle = open(\n\u001b[0m\u001b[1;32m    874\u001b[0m                 \u001b[0mhandle\u001b[0m\u001b[0;34m,\u001b[0m\u001b[0;34m\u001b[0m\u001b[0;34m\u001b[0m\u001b[0m\n\u001b[1;32m    875\u001b[0m                 \u001b[0mioargs\u001b[0m\u001b[0;34m.\u001b[0m\u001b[0mmode\u001b[0m\u001b[0;34m,\u001b[0m\u001b[0;34m\u001b[0m\u001b[0;34m\u001b[0m\u001b[0m\n",
            "\u001b[0;31mFileNotFoundError\u001b[0m: [Errno 2] No such file or directory: '/kaggle/input/equity-post-HCT-survival-predictions/train.csv'"
          ]
        }
      ],
      "execution_count": null
    },
    {
      "cell_type": "code",
      "source": [
        "train['efs'] = train['efs'].astype('category')\n",
        "train.head()"
      ],
      "metadata": {
        "trusted": true,
        "execution": {
          "execution_failed": "2025-02-20T05:05:32.778Z"
        },
        "id": "NE5keUbjwACs",
        "outputId": "5bcdec1c-2c91-4e79-ab61-7b107dacdea2",
        "colab": {
          "base_uri": "https://localhost:8080/",
          "height": 158
        }
      },
      "outputs": [
        {
          "output_type": "error",
          "ename": "NameError",
          "evalue": "name 'train' is not defined",
          "traceback": [
            "\u001b[0;31m---------------------------------------------------------------------------\u001b[0m",
            "\u001b[0;31mNameError\u001b[0m                                 Traceback (most recent call last)",
            "\u001b[0;32m<ipython-input-13-6650a6c107be>\u001b[0m in \u001b[0;36m<cell line: 0>\u001b[0;34m()\u001b[0m\n\u001b[0;32m----> 1\u001b[0;31m \u001b[0mtrain\u001b[0m\u001b[0;34m[\u001b[0m\u001b[0;34m'efs'\u001b[0m\u001b[0;34m]\u001b[0m \u001b[0;34m=\u001b[0m \u001b[0mtrain\u001b[0m\u001b[0;34m[\u001b[0m\u001b[0;34m'efs'\u001b[0m\u001b[0;34m]\u001b[0m\u001b[0;34m.\u001b[0m\u001b[0mastype\u001b[0m\u001b[0;34m(\u001b[0m\u001b[0;34m'category'\u001b[0m\u001b[0;34m)\u001b[0m\u001b[0;34m\u001b[0m\u001b[0;34m\u001b[0m\u001b[0m\n\u001b[0m\u001b[1;32m      2\u001b[0m \u001b[0mtrain\u001b[0m\u001b[0;34m.\u001b[0m\u001b[0mhead\u001b[0m\u001b[0;34m(\u001b[0m\u001b[0;34m)\u001b[0m\u001b[0;34m\u001b[0m\u001b[0;34m\u001b[0m\u001b[0m\n",
            "\u001b[0;31mNameError\u001b[0m: name 'train' is not defined"
          ]
        }
      ],
      "execution_count": null
    },
    {
      "cell_type": "code",
      "source": [
        "def kaplan(train, time_col = 'efs_time', event_col='efs'):\n",
        "\n",
        "    kmf = KaplanMeierFitter()\n",
        "    kmf.fit(train[time_col], event_observed=train[event_col])\n",
        "    return kmf.survival_function_at_times(train[time_col]).values.flatten()\n",
        "\n",
        "\n",
        "train['target'] = kaplan(train=train)\n",
        "train['target']"
      ],
      "metadata": {
        "trusted": true,
        "execution": {
          "execution_failed": "2025-02-20T05:05:32.778Z"
        },
        "id": "PLRR1_iZwACt"
      },
      "outputs": [],
      "execution_count": null
    },
    {
      "cell_type": "code",
      "source": [
        "train_data_features = train.drop(columns=['efs', 'efs_time'])"
      ],
      "metadata": {
        "trusted": true,
        "execution": {
          "execution_failed": "2025-02-20T05:05:32.778Z"
        },
        "id": "7gEO3_iAwACt"
      },
      "outputs": [],
      "execution_count": null
    },
    {
      "cell_type": "code",
      "source": [
        "train.dtypes"
      ],
      "metadata": {
        "trusted": true,
        "execution": {
          "execution_failed": "2025-02-20T05:05:32.778Z"
        },
        "id": "ciNh78ldwACt"
      },
      "outputs": [],
      "execution_count": null
    },
    {
      "cell_type": "code",
      "source": [
        "train.columns"
      ],
      "metadata": {
        "trusted": true,
        "execution": {
          "execution_failed": "2025-02-20T05:05:32.778Z"
        },
        "id": "88UIcyGRwACt"
      },
      "outputs": [],
      "execution_count": null
    },
    {
      "cell_type": "code",
      "source": [
        "test.columns"
      ],
      "metadata": {
        "trusted": true,
        "execution": {
          "execution_failed": "2025-02-20T05:05:32.778Z"
        },
        "id": "7nGPzjDjwACu"
      },
      "outputs": [],
      "execution_count": null
    },
    {
      "cell_type": "code",
      "source": [
        "data = pd.concat([train_data_features, test], axis=0).reset_index(drop=True)\n"
      ],
      "metadata": {
        "trusted": true,
        "execution": {
          "execution_failed": "2025-02-20T05:05:32.778Z"
        },
        "id": "rreh-lXWwACu"
      },
      "outputs": [],
      "execution_count": null
    },
    {
      "cell_type": "code",
      "source": [
        "data.head"
      ],
      "metadata": {
        "trusted": true,
        "execution": {
          "execution_failed": "2025-02-20T05:05:32.778Z"
        },
        "id": "_udhMSs4wACu"
      },
      "outputs": [],
      "execution_count": null
    },
    {
      "cell_type": "code",
      "source": [
        "data.info()"
      ],
      "metadata": {
        "trusted": true,
        "execution": {
          "execution_failed": "2025-02-20T05:05:32.778Z"
        },
        "id": "RcXW5sdtwACu"
      },
      "outputs": [],
      "execution_count": null
    },
    {
      "cell_type": "code",
      "source": [
        "data.columns"
      ],
      "metadata": {
        "trusted": true,
        "execution": {
          "execution_failed": "2025-02-20T05:05:32.778Z"
        },
        "id": "0O2rQRE3wACu"
      },
      "outputs": [],
      "execution_count": null
    },
    {
      "cell_type": "code",
      "source": [
        "data.dtypes"
      ],
      "metadata": {
        "trusted": true,
        "execution": {
          "execution_failed": "2025-02-20T05:05:32.778Z"
        },
        "id": "1IVCiMVbwACu"
      },
      "outputs": [],
      "execution_count": null
    },
    {
      "cell_type": "code",
      "source": [
        "data.describe().T"
      ],
      "metadata": {
        "trusted": true,
        "execution": {
          "execution_failed": "2025-02-20T05:05:32.778Z"
        },
        "id": "yX8zjgJDwACu"
      },
      "outputs": [],
      "execution_count": null
    },
    {
      "cell_type": "code",
      "source": [
        "data.isnull().sum()"
      ],
      "metadata": {
        "trusted": true,
        "execution": {
          "execution_failed": "2025-02-20T05:05:32.778Z"
        },
        "id": "wM-D8zxkwACu"
      },
      "outputs": [],
      "execution_count": null
    },
    {
      "cell_type": "code",
      "source": [
        "duplicates = data.duplicated()\n",
        "print(duplicates)"
      ],
      "metadata": {
        "trusted": true,
        "execution": {
          "execution_failed": "2025-02-20T05:05:32.778Z"
        },
        "id": "vPBamv33wACu"
      },
      "outputs": [],
      "execution_count": null
    },
    {
      "cell_type": "code",
      "source": [
        "num_duplicates = data.duplicated().sum()\n",
        "print(f\"Number of duplicate rows: {num_duplicates}\")\n",
        "# data.drop('ID', axis=1, inplace=True)"
      ],
      "metadata": {
        "trusted": true,
        "execution": {
          "execution_failed": "2025-02-20T05:05:32.778Z"
        },
        "id": "8kMW71ocwACu"
      },
      "outputs": [],
      "execution_count": null
    },
    {
      "cell_type": "code",
      "source": [
        "numerical_cols = data.select_dtypes(include=['int', 'float']).columns\n",
        "\n",
        "numerical_cols"
      ],
      "metadata": {
        "trusted": true,
        "execution": {
          "execution_failed": "2025-02-20T05:05:32.778Z"
        },
        "id": "iN75bUlZwACv"
      },
      "outputs": [],
      "execution_count": null
    },
    {
      "cell_type": "code",
      "source": [
        "data.dtypes"
      ],
      "metadata": {
        "trusted": true,
        "execution": {
          "execution_failed": "2025-02-20T05:05:32.778Z"
        },
        "id": "SRHImEYGwACv"
      },
      "outputs": [],
      "execution_count": null
    },
    {
      "cell_type": "code",
      "source": [
        "# Identify categorical columns\n",
        "categorical_cols = data.select_dtypes(include=['object']).columns\n",
        "\n",
        "# Remove whitespaces and standardize text\n",
        "for col in categorical_cols:\n",
        "    data[col] = data[col].str.strip().str.lower()\n",
        "\n",
        "\n",
        "# Verify changes\n",
        "for col in categorical_cols:\n",
        "    unique_values = data[col].unique()\n",
        "    print(f\"{col}: {unique_values}\\n\")"
      ],
      "metadata": {
        "trusted": true,
        "execution": {
          "execution_failed": "2025-02-20T05:05:32.778Z"
        },
        "id": "dF7DLJE6wACv"
      },
      "outputs": [],
      "execution_count": null
    },
    {
      "cell_type": "code",
      "source": [
        "for col in categorical_cols:\n",
        "    data[col] = data[col].astype('category')\n",
        "\n",
        "data.info()"
      ],
      "metadata": {
        "trusted": true,
        "execution": {
          "execution_failed": "2025-02-20T05:05:32.778Z"
        },
        "id": "KtLpS2U_wACv"
      },
      "outputs": [],
      "execution_count": null
    },
    {
      "cell_type": "code",
      "source": [
        "categorical_cols = data.select_dtypes(include=['category']).columns\n",
        "categorical_cols"
      ],
      "metadata": {
        "trusted": true,
        "execution": {
          "execution_failed": "2025-02-20T05:05:32.779Z"
        },
        "id": "tUCGZNuowACv"
      },
      "outputs": [],
      "execution_count": null
    },
    {
      "cell_type": "code",
      "source": [
        "numerical_cat_columns = ['hla_match_c_high', 'hla_high_res_8', 'hla_low_res_6',\n",
        "                     'hla_high_res_6', 'hla_high_res_10', 'hla_match_dqb1_high',\n",
        "                     'hla_nmdp_6', 'hla_match_c_low', 'hla_match_drb1_low',\n",
        "                     'hla_match_dqb1_low', 'hla_match_a_high',\n",
        "                      'hla_match_b_low',\n",
        "                     'hla_match_a_low', 'hla_match_b_high', 'comorbidity_score',\n",
        "                     'karnofsky_score', 'hla_low_res_8', 'hla_match_drb1_high',\n",
        "                     'hla_low_res_10','dri_score', 'psych_disturb', 'cyto_score', 'diabetes', 'tbi_status',\n",
        "               'arrhythmia', 'graft_type', 'vent_hist', 'renal_issue', 'pulm_severe',\n",
        "               'prim_disease_hct', 'cmv_status', 'tce_imm_match', 'rituximab',\n",
        "               'prod_type', 'cyto_score_detail', 'conditioning_intensity', 'ethnicity',\n",
        "               'obesity', 'mrd_hct', 'in_vivo_tcd', 'tce_match', 'hepatic_severe',\n",
        "               'prior_tumor', 'peptic_ulcer', 'gvhd_proph', 'rheum_issue', 'sex_match',\n",
        "               'race_group', 'hepatic_mild', 'tce_div_match', 'donor_related',\n",
        "               'melphalan_dose', 'cardiac', 'pulm_moderate']\n",
        "\n",
        "#  Convert numerical columns to categorical\n",
        "for col in numerical_cat_columns:\n",
        "    data[col] = data[col].astype(\"category\")"
      ],
      "metadata": {
        "trusted": true,
        "execution": {
          "execution_failed": "2025-02-20T05:05:32.779Z"
        },
        "id": "8KeKhPAVwACv"
      },
      "outputs": [],
      "execution_count": null
    },
    {
      "cell_type": "code",
      "source": [
        "data.dtypes"
      ],
      "metadata": {
        "trusted": true,
        "execution": {
          "execution_failed": "2025-02-20T05:05:32.779Z"
        },
        "id": "4i0xxD1_wACv"
      },
      "outputs": [],
      "execution_count": null
    },
    {
      "cell_type": "code",
      "source": [
        "\n",
        "from sklearn.impute import KNNImputer\n",
        "from sklearn.preprocessing import LabelEncoder"
      ],
      "metadata": {
        "trusted": true,
        "execution": {
          "execution_failed": "2025-02-20T05:05:32.779Z"
        },
        "id": "xxr0PIduwACv"
      },
      "outputs": [],
      "execution_count": null
    },
    {
      "cell_type": "code",
      "source": [
        "#Replace blanks with NaN\n",
        "data[numerical_cat_columns] = data[numerical_cat_columns].replace(r'^\\s*$', np.nan, regex=True)\n",
        "\n",
        "#  Label Encoding for categorical variables\n",
        "label_encoders = {}\n",
        "for col in numerical_cat_columns:\n",
        "    le = LabelEncoder()\n",
        "    data[col] = data[col].astype(str)  # Convert to string to ensure encoding works\n",
        "    data[col] = le.fit_transform(data[col])\n",
        "    label_encoders[col] = le  # Store encoders for reverse transformation later\n",
        "\n",
        "#  KNN Imputation\n",
        "imputer = KNNImputer(n_neighbors=5, weights=\"uniform\")  # Adjust n_neighbors as needed\n",
        "data[numerical_cat_columns] = imputer.fit_transform(data[numerical_cat_columns])\n",
        "\n",
        "#  Convert columns back to integers\n",
        "for col in numerical_cat_columns:\n",
        "    data[col] = data[col].round(0).astype(int)  # Round off and convert to integers\n"
      ],
      "metadata": {
        "trusted": true,
        "execution": {
          "execution_failed": "2025-02-20T05:05:32.779Z"
        },
        "id": "l4TXlEr2wACw"
      },
      "outputs": [],
      "execution_count": null
    },
    {
      "cell_type": "code",
      "source": [
        "data.head()"
      ],
      "metadata": {
        "trusted": true,
        "execution": {
          "execution_failed": "2025-02-20T05:05:32.779Z"
        },
        "id": "dI2_QlCXwACw"
      },
      "outputs": [],
      "execution_count": null
    },
    {
      "cell_type": "code",
      "source": [
        "data.dtypes"
      ],
      "metadata": {
        "trusted": true,
        "execution": {
          "execution_failed": "2025-02-20T05:05:32.779Z"
        },
        "id": "ecsqtwZnwACw"
      },
      "outputs": [],
      "execution_count": null
    },
    {
      "cell_type": "code",
      "source": [
        "for col in numerical_cat_columns:\n",
        "    data[col] = data[col].astype(\"category\")"
      ],
      "metadata": {
        "trusted": true,
        "execution": {
          "execution_failed": "2025-02-20T05:05:32.779Z"
        },
        "id": "QWCg2iJDwACw"
      },
      "outputs": [],
      "execution_count": null
    },
    {
      "cell_type": "code",
      "source": [
        "data.dtypes"
      ],
      "metadata": {
        "trusted": true,
        "execution": {
          "execution_failed": "2025-02-20T05:05:32.779Z"
        },
        "id": "GV7TphYPwACw"
      },
      "outputs": [],
      "execution_count": null
    },
    {
      "cell_type": "code",
      "source": [
        "data.isnull().sum()"
      ],
      "metadata": {
        "trusted": true,
        "execution": {
          "execution_failed": "2025-02-20T05:05:32.779Z"
        },
        "id": "YzLUulLWwACw"
      },
      "outputs": [],
      "execution_count": null
    },
    {
      "cell_type": "code",
      "source": [
        "data.describe()"
      ],
      "metadata": {
        "trusted": true,
        "execution": {
          "execution_failed": "2025-02-20T05:05:32.779Z"
        },
        "id": "y6Ctgb6pwACx"
      },
      "outputs": [],
      "execution_count": null
    },
    {
      "cell_type": "code",
      "source": [
        "import matplotlib.pyplot as plt\n",
        "\n",
        "\n",
        "# Assuming your data is in a DataFrame called df\n",
        "# Replace 'donor_age' with your actual column name\n",
        "plt.figure(figsize=(8, 6))\n",
        "\n",
        "# Plot the histogram\n",
        "plt.hist(data['donor_age'].dropna(), bins=20, color='skyblue', edgecolor='black')\n",
        "\n",
        "# Add labels and title\n",
        "plt.xlabel('Donor Age')\n",
        "plt.ylabel('Frequency')\n",
        "plt.title('Distribution of Donor Age')\n",
        "\n",
        "# Show the plot\n",
        "plt.show()"
      ],
      "metadata": {
        "trusted": true,
        "execution": {
          "execution_failed": "2025-02-20T05:05:32.779Z"
        },
        "id": "mlxOY5q1wACx"
      },
      "outputs": [],
      "execution_count": null
    },
    {
      "cell_type": "code",
      "source": [
        "# Calculate the mean of 'donor_age' excluding NaN\n",
        "mean_donor_age = data['donor_age'].mean()\n",
        "\n",
        "# Impute missing values with the mean\n",
        "data['donor_age'].fillna(mean_donor_age, inplace=True)"
      ],
      "metadata": {
        "trusted": true,
        "execution": {
          "execution_failed": "2025-02-20T05:05:32.779Z"
        },
        "id": "zohHxdrrwACx"
      },
      "outputs": [],
      "execution_count": null
    },
    {
      "cell_type": "code",
      "source": [
        "data.isnull().sum()"
      ],
      "metadata": {
        "trusted": true,
        "execution": {
          "execution_failed": "2025-02-20T05:05:32.779Z"
        },
        "id": "iOwOYNe0wACx"
      },
      "outputs": [],
      "execution_count": null
    },
    {
      "cell_type": "code",
      "source": [
        "# Convert to datetime\n",
        "data['year_hct'] = pd.to_datetime(data['year_hct'], format='%Y', errors='coerce')"
      ],
      "metadata": {
        "trusted": true,
        "execution": {
          "execution_failed": "2025-02-20T05:05:32.779Z"
        },
        "id": "1dIoZ18lwAC1"
      },
      "outputs": [],
      "execution_count": null
    },
    {
      "cell_type": "code",
      "source": [
        "data.dtypes"
      ],
      "metadata": {
        "trusted": true,
        "execution": {
          "execution_failed": "2025-02-20T05:05:32.779Z"
        },
        "id": "UPpV_GD3wAC1"
      },
      "outputs": [],
      "execution_count": null
    },
    {
      "cell_type": "code",
      "source": [
        "data['year_hct'] = pd.to_datetime(data['year_hct'])\n",
        "\n",
        "# Extract only the year\n",
        "data['year_hct'] = data['year_hct'].dt.year"
      ],
      "metadata": {
        "trusted": true,
        "execution": {
          "execution_failed": "2025-02-20T05:05:32.78Z"
        },
        "id": "k7pwdGDfwAC1"
      },
      "outputs": [],
      "execution_count": null
    },
    {
      "cell_type": "code",
      "source": [
        "ids_to_remove = [28800,28801,28802]\n",
        "test_data = data[data['ID'].isin(ids_to_remove)]\n",
        "x_train = data[~data['ID'].isin(ids_to_remove)]"
      ],
      "metadata": {
        "trusted": true,
        "execution": {
          "execution_failed": "2025-02-20T05:05:32.78Z"
        },
        "id": "flVwzLLMwAC1"
      },
      "outputs": [],
      "execution_count": null
    },
    {
      "cell_type": "code",
      "source": [
        "test_data=test_data.drop(columns=['target'])"
      ],
      "metadata": {
        "trusted": true,
        "execution": {
          "execution_failed": "2025-02-20T05:05:32.78Z"
        },
        "id": "8HgusfqowAC1"
      },
      "outputs": [],
      "execution_count": null
    },
    {
      "cell_type": "code",
      "source": [
        "pd.set_option('display.max_columns', None)\n",
        "x_train.head()"
      ],
      "metadata": {
        "trusted": true,
        "execution": {
          "execution_failed": "2025-02-20T05:05:32.78Z"
        },
        "id": "pCmOxvP2wAC1"
      },
      "outputs": [],
      "execution_count": null
    },
    {
      "cell_type": "code",
      "source": [
        "features = [\n",
        "    'year_hct', 'age_at_hct', 'donor_age', 'conditioning_intensity', 'prim_disease_hct',\n",
        "    'gvhd_proph', 'dri_score', 'race_group', 'comorbidity_score', 'sex_match', 'cmv_status',\n",
        "    'cyto_score', 'karnofsky_score', 'tce_imm_match', 'tbi_status', 'cyto_score_detail',\n",
        "    'tce_div_match', 'tce_match', 'mrd_hct', 'in_vivo_tcd', 'melphalan_dose',\n",
        "    'pulm_moderate', 'ethnicity', 'psych_disturb', 'donor_related', 'diabetes', 'hepatic_severe',\n",
        "    'hla_high_res_10', 'prior_tumor', 'hla_nmdp_6', 'prod_type', 'graft_type', 'hla_low_res_10',\n",
        "    'cardiac', 'pulm_severe', 'hepatic_mild', 'obesity', 'arrhythmia','hla_high_res_8','hla_low_res_6',\n",
        "    'hla_match_c_high','hla_high_res_6','hla_match_dqb1_high','hla_match_c_low',\n",
        "    'hla_high_res_10',\n",
        "                    'hla_nmdp_6', ,\n",
        "                     'hla_match_dqb1_low', 'hla_match_a_high',\n",
        "                      'hla_match_b_low',\n",
        "                     'hla_match_a_low', 'hla_match_b_high'\n",
        "\n",
        "\n",
        "\n",
        "]"
      ],
      "metadata": {
        "trusted": true,
        "execution": {
          "execution_failed": "2025-02-20T05:05:32.78Z"
        },
        "id": "vkHpkzCewAC2"
      },
      "outputs": [],
      "execution_count": null
    },
    {
      "cell_type": "code",
      "source": [
        "# features=['dri_score', 'psych_disturb', 'cyto_score', 'diabetes',\n",
        "#        'hla_match_c_high', 'hla_high_res_8', 'tbi_status', 'arrhythmia',\n",
        "#        'hla_low_res_6', 'graft_type',  'prim_disease_hct', 'hla_high_res_6', 'cmv_status',\n",
        "#        'hla_high_res_10', 'hla_match_dqb1_high', 'tce_imm_match', 'hla_nmdp_6',\n",
        "#        'hla_match_c_low',  'hla_match_drb1_low',\n",
        "#        'hla_match_dqb1_low', 'prod_type', 'cyto_score_detail',\n",
        "#        'conditioning_intensity', 'ethnicity', 'year_hct', 'obesity', 'mrd_hct',\n",
        "#        'in_vivo_tcd', 'tce_match', 'hla_match_a_high', 'hepatic_severe',\n",
        "#        'donor_age', 'prior_tumor', 'hla_match_b_low', 'peptic_ulcer',\n",
        "#        'age_at_hct', 'hla_match_a_low', 'gvhd_proph', 'rheum_issue',\n",
        "#        'sex_match', 'hla_match_b_high', 'race_group', 'comorbidity_score',\n",
        "#        'karnofsky_score', 'hepatic_mild', 'tce_div_match', 'donor_related',\n",
        "#        'melphalan_dose', 'hla_low_res_8', 'cardiac', 'hla_match_drb1_high',\n",
        "#        'pulm_moderate', 'hla_low_res_10','vent_hist','renal_issue','pulm_severe','rituximab']"
      ],
      "metadata": {
        "trusted": true,
        "id": "YnEDDF8zwAC2"
      },
      "outputs": [],
      "execution_count": null
    },
    {
      "cell_type": "code",
      "source": [
        "X = x_train[features]\n",
        "X = x_train.reset_index(drop=True)\n",
        "y = x_train['target']\n",
        "print(X.shape)\n",
        "print(y.shape)"
      ],
      "metadata": {
        "trusted": true,
        "execution": {
          "execution_failed": "2025-02-20T05:05:32.78Z"
        },
        "id": "fKdZZUpLwAC2"
      },
      "outputs": [],
      "execution_count": null
    },
    {
      "cell_type": "code",
      "source": [
        "from sklearn.model_selection import train_test_split\n",
        "\n",
        "# Correct splitting\n",
        "X_train, X_val, y_train, y_val = train_test_split(X, y, test_size=0.2, random_state=42)\n",
        "\n",
        "# Check shapes\n",
        "print(f\"X_train shape: {X_train.shape}\")\n",
        "print(f\"y_train shape: {y_train.shape}\")\n",
        "print(f\"X_val shape: {X_val.shape}\")\n",
        "print(f\"y_val shape: {y_val.shape}\")\n",
        "\n",
        "print(f\"X shape: {X.shape}\")\n",
        "print(f\"y shape: {y.shape}\")\n"
      ],
      "metadata": {
        "trusted": true,
        "execution": {
          "execution_failed": "2025-02-20T05:05:32.78Z"
        },
        "id": "l9r5xe1CwAC2"
      },
      "outputs": [],
      "execution_count": null
    },
    {
      "cell_type": "code",
      "source": [
        "from catboost import CatBoostRegressor"
      ],
      "metadata": {
        "trusted": true,
        "execution": {
          "execution_failed": "2025-02-20T05:05:32.78Z"
        },
        "id": "-McCEM0_wAC2"
      },
      "outputs": [],
      "execution_count": null
    },
    {
      "cell_type": "code",
      "source": [
        "# model1 = CatBoostRegressor(cat_features=numerical_cat_columns,loss_function='MultiRMSE', eval_metric='MultiRMSE', iterations=100, learning_rate=0.1, depth=6)\n",
        "# model1.fit(X_train,y_train,eval_set=(X_val, y_val), verbose=True)"
      ],
      "metadata": {
        "trusted": true,
        "execution": {
          "execution_failed": "2025-02-20T05:05:32.78Z"
        },
        "id": "OJH70EOewAC2"
      },
      "outputs": [],
      "execution_count": null
    },
    {
      "cell_type": "code",
      "source": [
        "from sklearn.ensemble import StackingRegressor, GradientBoostingRegressor\n",
        "from sklearn.tree import DecisionTreeRegressor\n",
        "from sklearn.linear_model import Ridge\n",
        "from sklearn.ensemble import StackingRegressor\n",
        "from sklearn.linear_model import Ridge\n",
        "from sklearn.ensemble import RandomForestRegressor\n",
        "from sklearn.model_selection import train_test_split, cross_val_score\n",
        "from sklearn.preprocessing import StandardScaler\n",
        "from sklearn.metrics import mean_squared_error\n",
        "import numpy as np\n",
        "import lightgbm as lgb\n",
        "\n",
        "\n",
        "# Define the base models\n",
        "base_models = [\n",
        "    ('rf', RandomForestRegressor(n_estimators=200, random_state=42)),\n",
        "    ('gb', GradientBoostingRegressor(n_estimators=100, random_state=42)),\n",
        "    ('dt', DecisionTreeRegressor(random_state=42)),\n",
        "    ('lgb', lgb.LGBMRegressor(n_estimators=300, random_state=42))\n",
        "\n",
        "]\n",
        "\n",
        "# Define the meta-model\n",
        "meta_model = Ridge()\n",
        "\n",
        "model2 = StackingRegressor(estimators=base_models, final_estimator=meta_model)\n",
        "model2.fit(X_train, y_train)\n",
        "ensemble_pred = model2.predict(X_val)"
      ],
      "metadata": {
        "trusted": true,
        "execution": {
          "execution_failed": "2025-02-20T05:05:32.78Z"
        },
        "id": "cs-8l2YawAC2"
      },
      "outputs": [],
      "execution_count": null
    },
    {
      "cell_type": "code",
      "source": [
        "# Evaluating model performance: C-index\n",
        "from lifelines.utils import concordance_index\n",
        "c_index = concordance_index(y_val, ensemble_pred, event_observed=y_val)\n",
        "print(f\"C-index on Validation Set: {c_index}\")"
      ],
      "metadata": {
        "trusted": true,
        "execution": {
          "execution_failed": "2025-02-20T05:05:32.78Z"
        },
        "id": "jtSCeq0rwAC2"
      },
      "outputs": [],
      "execution_count": null
    },
    {
      "cell_type": "code",
      "source": [
        "test_data=test_data.drop(columns=['target','ID'], errors='ignore')\n",
        "test_data=test_data[features]\n",
        "prediction = model2.predict(test_data)"
      ],
      "metadata": {
        "trusted": true,
        "id": "Iu0ghHtCwAC2"
      },
      "outputs": [],
      "execution_count": null
    },
    {
      "cell_type": "code",
      "source": [
        "final_predictions = pd.DataFrame(\n",
        "    {\n",
        "        \"ID\": test_data.index,\n",
        "        \"prediction\": prediction,\n",
        "    }\n",
        ")\n",
        "final_predictions.to_csv(\"submission.csv\", index=False)\n",
        "print(\"Final predictions saved to 'submission.csv'.\")"
      ],
      "metadata": {
        "trusted": true,
        "execution": {
          "execution_failed": "2025-02-20T05:05:32.78Z"
        },
        "id": "CLoRO6xCwAC2"
      },
      "outputs": [],
      "execution_count": null
    },
    {
      "cell_type": "code",
      "source": [
        "final_predictions"
      ],
      "metadata": {
        "trusted": true,
        "execution": {
          "execution_failed": "2025-02-20T05:05:32.78Z"
        },
        "id": "tzbWzY1YwAC3"
      },
      "outputs": [],
      "execution_count": null
    },
    {
      "cell_type": "code",
      "source": [],
      "metadata": {
        "trusted": true,
        "id": "rlcqNfZhwAC3"
      },
      "outputs": [],
      "execution_count": null
    },
    {
      "cell_type": "code",
      "source": [],
      "metadata": {
        "trusted": true,
        "id": "SMtjRlzzwAC3"
      },
      "outputs": [],
      "execution_count": null
    }
  ]
}